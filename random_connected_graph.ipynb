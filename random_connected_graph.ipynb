{
 "cells": [
  {
   "cell_type": "code",
   "execution_count": 1,
   "metadata": {},
   "outputs": [
    {
     "data": {
      "text/plain": [
       "'%.4f'"
      ]
     },
     "execution_count": 1,
     "metadata": {},
     "output_type": "execute_result"
    }
   ],
   "source": [
    "import networkx as nx\n",
    "import matplotlib.pyplot as plt\n",
    "import numpy as np\n",
    "import scipy as sp\n",
    "%precision 4"
   ]
  },
  {
   "cell_type": "code",
   "execution_count": 19,
   "metadata": {},
   "outputs": [
    {
     "data": {
      "image/png": "[encoded data removed]",
      "text/plain": [
       "<matplotlib.figure.Figure at 0x188467dd550>"
      ]
     },
     "metadata": {},
     "output_type": "display_data"
    },
    {
     "name": "stdout",
     "output_type": "stream",
     "text": [
      "Graph is connected?  True\n",
      "Total number of edges:  13\n",
      "Nodes are:  [0, 1, 2, 3, 4, 5, 6, 7, 8, 9]\n",
      "Edges are:  [(0, 4), (0, 7), (0, 9), (1, 8), (1, 9), (2, 7), (3, 6), (3, 8), (4, 5), (4, 7), (5, 9), (6, 9), (8, 9)]\n"
     ]
    }
   ],
   "source": [
    "def random_connected_graph(n_nodes, prob):\n",
    "    \"\"\"\n",
    "    randomly generate a graph using Erdos-Renyi model\n",
    "    :param n_nodes: number of nodes\n",
    "    :param prob: the probability of an edge\n",
    "    :return: an Networkx object\n",
    "    \"\"\"\n",
    "\n",
    "    G = nx.erdos_renyi_graph(n_nodes, prob)\n",
    "    while not nx.is_connected(G):\n",
    "        G = nx.erdos_renyi_graph(n_nodes, prob)\n",
    "\n",
    "    return G\n",
    "\n",
    "def test_connected():\n",
    "    G = random_connected_graph(100, .2)\n",
    "    assert nx.is_connected(G)\n",
    "    \n",
    "N, p = 10, 0.2\n",
    "G = random_connected_graph(N, p)\n",
    "nx.draw(G)\n",
    "plt.show()\n",
    "print('Graph is connected? ', nx.is_connected(G))\n",
    "print('Total number of edges: ', len(G.edges()))\n",
    "print('Nodes are: ', G.nodes())\n",
    "print('Edges are: ', G.edges())"
   ]
  },
  {
   "cell_type": "code",
   "execution_count": 46,
   "metadata": {},
   "outputs": [
    {
     "name": "stdout",
     "output_type": "stream",
     "text": [
      "(5,)\n",
      "(5, 1)\n",
      "[[  8.0600e-01]\n",
      " [  2.9822e-05]\n",
      " [  4.7191e-01]\n",
      " [  7.4388e-01]\n",
      " [  1.1001e-01]]\n",
      "[  8.0600e-01   2.9822e-05   4.7191e-01   7.4388e-01   1.1001e-01]\n"
     ]
    }
   ],
   "source": [
    "a = np.random.rand(5,3)\n",
    "b = a[:, 2]\n",
    "print(b.shape)\n",
    "c = a[:, [2]]\n",
    "print(c.shape)\n",
    "print(b.reshape(-1, 1))\n",
    "print(c.ravel())"
   ]
  },
  {
   "cell_type": "code",
   "execution_count": null,
   "metadata": {
    "collapsed": true
   },
   "outputs": [],
   "source": []
  }
 ],
 "metadata": {
  "kernelspec": {
   "display_name": "Python 3",
   "language": "python",
   "name": "python3"
  },
  "language_info": {
   "codemirror_mode": {
    "name": "ipython",
    "version": 3
   },
   "file_extension": ".py",
   "mimetype": "text/x-python",
   "name": "python",
   "nbconvert_exporter": "python",
   "pygments_lexer": "ipython3",
   "version": "3.6.2"
  }
 },
 "nbformat": 4,
 "nbformat_minor": 2
}
